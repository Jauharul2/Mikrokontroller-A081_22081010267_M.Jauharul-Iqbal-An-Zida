{
 "cells": [
  {
   "cell_type": "code",
   "execution_count": null,
   "id": "d97209b1-0072-49a7-baba-c99760e59ee8",
   "metadata": {},
   "outputs": [],
   "source": [
    "import itclab\n",
    "import time\n",
    "#Connect to Arduino \n",
    "a = itclab.iTCLab()\n",
    "print('LED On')\n",
    "a.LED(100)\n",
    "#pause for 1 second\n",
    "time.sleep(1.0)\n"
   ]
  }
 ],
 "metadata": {
  "kernelspec": {
   "display_name": "Python 3 (ipykernel)",
   "language": "python",
   "name": "python3"
  },
  "language_info": {
   "codemirror_mode": {
    "name": "ipython",
    "version": 3
   },
   "file_extension": ".py",
   "mimetype": "text/x-python",
   "name": "python",
   "nbconvert_exporter": "python",
   "pygments_lexer": "ipython3",
   "version": "3.12.0"
  }
 },
 "nbformat": 4,
 "nbformat_minor": 5
}
